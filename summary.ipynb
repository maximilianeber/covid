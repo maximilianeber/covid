{
 "cells": [
  {
   "cell_type": "markdown",
   "metadata": {},
   "source": [
    "##  Covid 19 model with policy paths\n",
    "\n",
    "<br>\n",
    "\n",
    "__Dashboard:__ https://covid19-scenarios.netlify.com/"
   ]
  },
  {
   "cell_type": "markdown",
   "metadata": {},
   "source": [
    "References:\n",
    "\n",
    "- https://en.wikipedia.org/wiki/Compartmental_models_in_epidemiology\n",
    "- https://gabgoh.github.io/COVID/index.html\n",
    "\n"
   ]
  },
  {
   "cell_type": "markdown",
   "metadata": {},
   "source": [
    "\n",
    "### 1. Non-technical introduction\n",
    "\n",
    "The model has several groups / compartments\n",
    "\n",
    "- Susceptible: Individuals that are healthy and can still catch the virus. For a virus like covid 19, the whole population is assumed to start here\n",
    "\n",
    "- Exposed: Infected individuals who are currently in a non-infectious incubation time\n",
    "\n",
    "- Infectious incubation period: Infected individuals who are currently in the subsequent infectious part of the incubation time\n",
    "\n",
    "Until this point, the stages have been passed by all individuals alike. After some days, the infected individuals then spread in four groups:\n",
    "\n",
    "- Asymptomatic: Infectious inviduals who remain asymptomatic (or with very mild symptoms indistinguishable from a mild cold)\n",
    "\n",
    "- Mild: Infectious individuals who have mild to medium symptoms\n",
    "\n",
    "- Severe: Infectious individuals with severe symptoms. Then individuals first stay at home and then all become hospitalized\n",
    "\n",
    "- Recovered or deceases: Individuals that recovered form the disease and are assumed to be immune. All asymptomatic and mild cases are assumed to recover, a part of the severe cases recovers and another part deceases\n",
    "\n",
    "$R_{0}$: At the beginning of the simulation, with an all susceptible population, how many individuals does an infectious individual infect on average\n",
    "\n",
    "<br>"
   ]
  },
  {
   "cell_type": "markdown",
   "metadata": {},
   "source": [
    "### 2. Compartments\n",
    "\n",
    "$S$ &nbsp; Susceptible\n",
    "\n",
    "$E$ &nbsp; Non infectious incubation period (duration $t_{e-inc}$)\n",
    "\n",
    "$I_{inc}$ &nbsp; Infectious incubation period (duration $t_{i-inc}$)\n",
    "\n",
    "$I_{asy}$ &nbsp; Infectious, asymptomatic course (duration $t_{asy}$)\n",
    "\n",
    "$I_{mild}$ &nbsp; Infectious, mild course (duration $t_{mild}$)\n",
    "\n",
    "$I_{sev-pre-hos}$ &nbsp; Infectious, severe course, initial time before hospitalization (duration $t_{sev-pre-hos}$)\n",
    "\n",
    "$I_{sev-hos-rec}$ &nbsp; Infectious, severe course, subsequent stay in hospital with recovery (duration $t_{sev-hos-dec}$)\n",
    "\n",
    "$I_{sev-hos-dec}$ &nbsp; Infectious, severe course, subsequent stay in hospital deceased (duration $t_{sev-hos-dec}$)\n",
    "\n",
    "$R_{asy}$ &nbsp; Recovered from asymptomatic course\n",
    "\n",
    "$R_{mild}$ &nbsp; Recovered from mild course\n",
    "\n",
    "$R_{sev}$ &nbsp; Recovered from severe course after hospital\n",
    "\n",
    "$D_{sev}$ &nbsp; Deceased from severe course after hospital\n",
    "\n",
    "\n",
    "________\n",
    "\n",
    "\n",
    "$p_{asy}$ &nbsp; Share of individuals with asymptomatic course\n",
    "\n",
    "$p_{sev-rec}$ &nbsp; Share of individuals with severe/hospitalized course who will recover\n",
    "\n",
    "$p_{sev-dec}$ &nbsp; Share of individuals with severe/hospitalized course who will decease; mortality rate\n",
    "\n",
    "-> The share of infected individuals who will go to hospital is $p_{sev-rec} + p_{sev-dec}$ \n",
    "\n",
    "$p_{mild} = 1 - p_{asy} - p_{sev-rec} - p_{sev-dec}$ &nbsp; Share of individuals with mild course (largest share)\n",
    "\n",
    "$p_{icu-giv-hos}$ &nbsp; Share of those individuals in hospital assumed to be in ICU\n",
    "\n",
    "<br>"
   ]
  },
  {
   "cell_type": "markdown",
   "metadata": {},
   "source": [
    "### 3. Flowchart visualization\n",
    "\n",
    "<img alt=\"Illustration of Flows\" src=\"flow.png\" width=\"1000\"/>"
   ]
  },
  {
   "cell_type": "markdown",
   "metadata": {},
   "source": [
    "### 4. Differential equations\n",
    "\n",
    "<br>\n",
    "\n",
    "\n",
    "$(1)$ &nbsp; &nbsp; $\\dot{S} = \\left( 1 - policy\\_strength_{all} \\right) (-\\beta) \\left(I_{inc} + I_{asy} + (1 - policy\\_strength_{sym}) \\; (I_{mild} + I_{sev-pre-hos})\\right) S $\n",
    "\n",
    "$(2)$ &nbsp; &nbsp; $\\dot{E} = \\left( 1 - policy\\_strength_{all} \\right) (+\\beta) \\left(I_{inc} + I_{asy} + (1 - policy\\_strength_{sym}) \\; (I_{mild} + I_{sev-pre-hos})\\right) S \\; - \\; \\frac{1}{t_{e-inc}}E$\n",
    "\n",
    "$(3)$ &nbsp; &nbsp; $\\dot{I}_{inc} = \\frac{1}{t_{e-inc}}E \\; - \\; \\frac{1}{t_{i-inc}}I$\n",
    "\n",
    "$(4)$ &nbsp; &nbsp; $\\dot{I}_{asy} = \\frac{1}{t_{i-inc}}  p_{asy} I_{inc} \\; - \\; \\frac{1}{t_{asy}}I_{asy}$\n",
    "\n",
    "$(5)$ &nbsp; &nbsp; $\\dot{I}_{mild} = \\frac{1}{t_{i-inc}} p_{mild} I_{inc} \\; - \\; \\frac{1}{t_{mild}}I_{mild}$\n",
    "\n",
    "$(6)$ &nbsp; &nbsp; $\\dot{I}_{sev-pre-hos} = \\frac{1}{t_{i-inc}} (p_{sev-rec}+p_{sev-dec}) I_{inc} \\; - \\; \\frac{1}{t_{sev-pre-hos}}I_{sev-pre-hos}$\n",
    "\n",
    "$(7)$ &nbsp; &nbsp; $\\dot{I}_{sev-hos-rec} =  \\frac{1}{t_{sev-pre-hos}} \\frac{p_{sev-rec}}{p_{sev-rec}+p_{sev-dec}} I_{sev-pre-hos} \\; - \\; \\frac{1}{t_{sev-hos-rec}}I_{sev-hos-rec}$\n",
    "\n",
    "$(8)$ &nbsp; &nbsp; $\\dot{I}_{sev-hos-dec} = \\frac{1}{t_{sev-pre-hos}} \\frac{p_{sev-dec}}{p_{sev-rec}+p_{sev-dec}} I_{sev-pre-hos} \\; - \\; \\frac{1}{t_{sev-hos-dec}}I_{sev-hos-dec}$\n",
    "\n",
    "$(9)$ &nbsp; &nbsp; $\\dot{R}_{asy} = \\frac{1}{t_{asy}}I_{asy}$\n",
    "\n",
    "$(10)$ &nbsp; $\\dot{R}_{mild} = \\frac{1}{t_{mild}}I_{mild}$\n",
    "\n",
    "$(11)$ &nbsp; $\\dot{R}_{sev} = \\frac{1}{t_{sev-hos-rec}}I_{sev-hos-rec}$\n",
    "\n",
    "$(12)$ &nbsp; $\\dot{D}_{sev} = \\frac{1}{t_{sev-hos-dec}}I_{sec-hos-dec}$\n",
    "\n",
    "Lastly, we assume at any time that a constant fraction of the hospitalized cases is in the ICU: $p_{icu-giv-hos}$\n",
    "\n",
    "<br>"
   ]
  },
  {
   "cell_type": "markdown",
   "metadata": {},
   "source": [
    "### 5. Computing beta\n",
    "\n",
    "For a given $R_{0}$, we compute the average beta for the equations above as:\n",
    "\n",
    "$\\beta = \\frac{R_{0}}{t_{average}}$ &nbsp; &nbsp; with &nbsp; &nbsp; $t_{average} = t_{i-inc} + p_{asy} \\cdot t_{asy} + p_{mild} \\cdot t_{mild} + (p_{sev-rec}+p_{sev-dec}) \\cdot t_{sev-pre-hos}$\n",
    "\n",
    "Being infectious starts with the infectious part of the incubation period ($t_{i-inc}$) - every individual flows through this part of the model. Afterwards people are separated into groups with different illness durations. Asymptomatic and mild are assumed to be infectious throughout. The group of severe patients prior to their hospital stay is assumed to infect others too, but once in hospitals is assumed to be isolated. Thus, the hospitalization durations are not part of the average infectious period above.\n",
    "\n",
    "<br>"
   ]
  },
  {
   "cell_type": "markdown",
   "metadata": {},
   "source": [
    "### 6. Policy options\n",
    "\n",
    "This model never uses the two policy parameters simultaneously, it only uses one of them and sets the other one to zero.\n",
    "\n",
    "1. $policy\\_strength_{all} \\in [0,1]$: Percentage decrease in new infections each period resulting from a policy that affects all infectious individuals, not just the symptomatic ones (e.g. social distancing, or to some degree testing __and__ tracing). A policy strength of  0 is the baseline model, an unrealistically strong level of 100 assumes to decrease all new infections to zero.\n",
    "\n",
    "2. $policy\\_strength_{sym} \\in [0,1]$: Percentage decrease in new infections each period resulting from a policy that affects only symptomatic individuals (e.g. self-quarantine of symptomatic individuals). A policy strength of  0 is the baseline model, an unrealistically strong level of 100 assumes to decrease all new infections to zero.\n",
    "\n",
    "<br>"
   ]
  },
  {
   "cell_type": "markdown",
   "metadata": {},
   "source": [
    "### 7. Computing policy implied R0\n",
    "\n",
    "First recall, that each of the two policies is only applied individually. Then each policy has an implied $R_{0}$, with \"implied\" meaning to assume that the policy starts at the beginning and is sustained forever. The actual $R_{t}$ would additionally be declining for every policy as the share of susceptible individuals declines. \n",
    "\n",
    "1. For the policy which decreases infections caused by all individuals: $R_{0}^{implied-policy-all} = (1 - policy\\_strength_{all}) \\cdot \\beta \\cdot t_{average}$ &nbsp; &nbsp; (for a derivation of $t_{average}$ see 5.)\n",
    "\n",
    "2. For the policy which decreases infections caused by only symptomatic individuals (now a part of the average time has to be adjusted): \n",
    "\n",
    "\n",
    "$R_{0}^{implied-policy-sym} = \\beta \\cdot \\left[ t_{i-inc} + p_{asy} \\cdot t_{asy} + (1-policy\\_strength_{sym}) \\left( p_{mild} \\cdot t_{mild} + (p_{sev-rec}+p_{sev-dec}) \\cdot t_{sev-pre-hos} \\right) \\right]$"
   ]
  }
 ],
 "metadata": {
  "kernelspec": {
   "display_name": "Python 3",
   "language": "python",
   "name": "python3"
  },
  "language_info": {
   "codemirror_mode": {
    "name": "ipython",
    "version": 3
   },
   "file_extension": ".py",
   "mimetype": "text/x-python",
   "name": "python",
   "nbconvert_exporter": "python",
   "pygments_lexer": "ipython3",
   "version": "3.7.6"
  }
 },
 "nbformat": 4,
 "nbformat_minor": 4
}
