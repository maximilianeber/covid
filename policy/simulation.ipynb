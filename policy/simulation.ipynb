{
 "cells": [
  {
   "cell_type": "markdown",
   "metadata": {},
   "source": [
    "## SEIR Model"
   ]
  },
  {
   "cell_type": "markdown",
   "metadata": {},
   "source": [
    "Based on http://gabgoh.github.io/COVID/index.html, with modifications"
   ]
  },
  {
   "cell_type": "code",
   "execution_count": null,
   "metadata": {},
   "outputs": [],
   "source": [
    "%load_ext lab_black\n",
    "import numpy as np\n",
    "import pandas as pd\n",
    "from pandas.testing import assert_series_equal\n",
    "from seir import simulator"
   ]
  },
  {
   "cell_type": "code",
   "execution_count": null,
   "metadata": {},
   "outputs": [],
   "source": [
    "# Calibration: Alternating regimes of exposure and social distancing (see r_0_values)\n",
    "\n",
    "# Note:\n",
    "# - Hospitalisation rate is assumed to be p_severe + p_fatal = 20%\n",
    "# - We might need to modify the model further to differentiate between hospitalised\n",
    "# cases (here 20%) and the much smaller subset of ICU cases. A quick hack could be\n",
    "# to just multiply 'I_severe_hospital' by a conditional ICU fraction we find in the\n",
    "# literature, to then add all of 'I_fatal_hospital', and to call this time series ICUs\n",
    "\n",
    "periods = 100\n",
    "dT = 0.01\n",
    "\n",
    "parameters = {\n",
    "    \"r_0_days\": [21, 42, 63, 100],  # note: the last entry has to equal 'periods'\n",
    "    \"r_0_values\": [3.5, 1.25, 2.5, 1.25],\n",
    "    \"t_infectious\": 2.9,\n",
    "    \"t_incubation\": 5.2,\n",
    "    \"p_severe\": 0.18,\n",
    "    \"p_fatal\": 0.02,\n",
    "    \"t_recovery_mild\": 15 - 2.9,\n",
    "    \"t_recovery_severe\": 31.5 - 2.9,\n",
    "    \"t_hospital_lag\": 5,\n",
    "    \"t_death\": 32 - 2.9,\n",
    "}\n",
    "\n",
    "N = 10000\n",
    "start = {\n",
    "    \"T\": 0.0,\n",
    "    \"S\": 1.0 - 1 / N,\n",
    "    \"E\": 1.0 / N,\n",
    "    \"I\": 0.0,\n",
    "    \"I_mild\": 0.0,\n",
    "    \"I_severe_home\": 0.0,\n",
    "    \"I_severe_hospital\": 0.0,\n",
    "    \"I_fatal_home\": 0.0,\n",
    "    \"I_fatal_hospital\": 0.0,\n",
    "    \"R_from_mild\": 0.0,\n",
    "    \"R_from_severe\": 0.0,\n",
    "    \"Dead\": 0,\n",
    "}"
   ]
  },
  {
   "cell_type": "code",
   "execution_count": null,
   "metadata": {},
   "outputs": [],
   "source": [
    "# Simulation\n",
    "simulations = simulator(parameters, start, periods, dT)"
   ]
  },
  {
   "cell_type": "code",
   "execution_count": null,
   "metadata": {},
   "outputs": [],
   "source": [
    "# Additional variables\n",
    "simulations = (\n",
    "    pd.DataFrame.from_dict(simulations)\n",
    "    .set_index(\"T\")\n",
    "    .assign(\n",
    "        Hospitalised=lambda x: x[\"I_severe_hospital\"] + x[\"I_fatal_hospital\"],\n",
    "        total_start=lambda x: x.iloc[0][\"S\"] + x.iloc[0][\"E\"],\n",
    "        total=lambda x: x[\"S\"]\n",
    "        + x[\"E\"]\n",
    "        + x[\"I_mild\"]\n",
    "        + x[\"I_severe_home\"]\n",
    "        + x[\"I_severe_hospital\"]\n",
    "        + x[\"I_fatal_home\"]\n",
    "        + x[\"I_fatal_hospital\"]\n",
    "        + x[\"R_from_mild\"]\n",
    "        + x[\"R_from_severe\"]\n",
    "        + x[\"Dead\"],\n",
    "    )\n",
    ")"
   ]
  },
  {
   "cell_type": "code",
   "execution_count": null,
   "metadata": {},
   "outputs": [],
   "source": [
    "# Check for constant population\n",
    "assert_series_equal(simulations[\"total\"], simulations[\"total_start\"])"
   ]
  },
  {
   "cell_type": "code",
   "execution_count": null,
   "metadata": {},
   "outputs": [],
   "source": [
    "simulations[[\"S\", \"I\", \"E\"]].plot()"
   ]
  },
  {
   "cell_type": "code",
   "execution_count": null,
   "metadata": {},
   "outputs": [],
   "source": [
    "simulations[[\"I\", \"Hospitalised\"]].plot()"
   ]
  },
  {
   "cell_type": "code",
   "execution_count": null,
   "metadata": {},
   "outputs": [],
   "source": [
    "simulations[[\"R_from_mild\", \"R_from_severe\", \"Dead\"]].plot()"
   ]
  },
  {
   "cell_type": "code",
   "execution_count": null,
   "metadata": {},
   "outputs": [],
   "source": []
  },
  {
   "cell_type": "code",
   "execution_count": null,
   "metadata": {},
   "outputs": [],
   "source": []
  },
  {
   "cell_type": "code",
   "execution_count": null,
   "metadata": {},
   "outputs": [],
   "source": []
  },
  {
   "cell_type": "code",
   "execution_count": null,
   "metadata": {},
   "outputs": [],
   "source": []
  },
  {
   "cell_type": "code",
   "execution_count": null,
   "metadata": {},
   "outputs": [],
   "source": [
    "# Code snippet of the version from the blog/dashboard (issue: fatalities seem not to\n",
    "# show up in hospitals)\n",
    "\n",
    "\n",
    "# Flows into three different subclasses of infectious\n",
    "# A: Mild course\n",
    "dI_mild = (\n",
    "    p_mild * gamma * I - (1 / t_recovery_mild) * I_mild\n",
    ") * dT\n",
    "\n",
    "# B: Severe  course (has two steps)\n",
    "dI_severe_home = (\n",
    "    p_severe * gamma * I - (1 / t_hospital_lag) * I_severe_home\n",
    ") * dT\n",
    "dI_severe_hospital = (\n",
    "    (1 / t_hospital_lag) * I_severe_home\n",
    "    - (1 / t_recovery_severe) * I_severe_hospital\n",
    ") * dT\n",
    "\n",
    "# C: Fatal course\n",
    "dI_fatal = (p_fatal * gamma * I - (1 / t_death) * I_fatal) * dT\n",
    "\n",
    "# Flows into recovery or death\n",
    "dR_from_mild = ((1 / t_recovery_mild) * I_mild) * dT\n",
    "dR_from_severe = (\n",
    "    (1 / t_recovery_severe) * I_severe_hospital\n",
    ") * dT\n",
    "dDead = ((1 / t_death) * I_fatal) * dT"
   ]
  },
  {
   "cell_type": "code",
   "execution_count": null,
   "metadata": {},
   "outputs": [],
   "source": []
  }
 ],
 "metadata": {
  "kernelspec": {
   "display_name": "Python 3.7.3 64-bit ('ml': venv)",
   "language": "python",
   "name": "python37364bitmlvenv3f4e8295970f4e71b3faee6abcea6825"
  },
  "language_info": {
   "codemirror_mode": {
    "name": "ipython",
    "version": 3
   },
   "file_extension": ".py",
   "mimetype": "text/x-python",
   "name": "python",
   "nbconvert_exporter": "python",
   "pygments_lexer": "ipython3",
   "version": "3.7.3"
  }
 },
 "nbformat": 4,
 "nbformat_minor": 4
}
