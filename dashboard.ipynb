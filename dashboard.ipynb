{
 "cells": [
  {
   "cell_type": "markdown",
   "metadata": {},
   "source": [
    "# Corona Impact Analysis"
   ]
  },
  {
   "cell_type": "markdown",
   "metadata": {},
   "source": [
    "TODO: Explanation and links to code here"
   ]
  },
  {
   "cell_type": "code",
   "execution_count": 4,
   "metadata": {},
   "outputs": [
    {
     "name": "stdout",
     "output_type": "stream",
     "text": [
      "The lab_black extension is already loaded. To reload it, use:\n",
      "  %reload_ext lab_black\n",
      "The autoreload extension is already loaded. To reload it, use:\n",
      "  %reload_ext autoreload\n"
     ]
    }
   ],
   "source": [
    "%load_ext lab_black\n",
    "%load_ext autoreload\n",
    "%autoreload 2\n",
    "from functools import partial\n",
    "from datetime import date\n",
    "\n",
    "import ipywidgets as widgets\n",
    "import numpy as np\n",
    "import pandas as pd\n",
    "from pandas.testing import assert_series_equal\n",
    "import seaborn as sns\n",
    "\n",
    "from seir import Seir"
   ]
  },
  {
   "cell_type": "code",
   "execution_count": 5,
   "metadata": {},
   "outputs": [],
   "source": [
    "sns.set_style(\"white\")"
   ]
  },
  {
   "cell_type": "code",
   "execution_count": 6,
   "metadata": {},
   "outputs": [],
   "source": [
    "social_distancing_steps = [\n",
    "    (\"2020-02-28\", 0.0),\n",
    "    (\"2020-03-21\", 0.85),\n",
    "    (\"2020-04-14\", 0.0),\n",
    "    (\"2020-12-01\", 0.0),\n",
    "]\n",
    "\n",
    "parameters = {\n",
    "    \"beta\": 0.5,\n",
    "    \"t_incubation\": 5.5,\n",
    "    \"t_presymptomatic\": 1.5,\n",
    "    \"t_recovery_asymptomatic\": 5,\n",
    "    \"t_recovery_mild\": 14,\n",
    "    \"t_recovery_severe\": 30.5,\n",
    "    \"t_death\": 14,\n",
    "    \"t_hospital_lag\": 5,\n",
    "    \"p_asymptomatic\": 0.3,\n",
    "    \"p_severe\": 0.18,\n",
    "    \"p_fatal\": 0.02,\n",
    "    \"p_self_quarantine\": 0.5,\n",
    "    \"p_icu_given_hospital\": 0.20,\n",
    "}\n",
    "\n",
    "start = {\n",
    "    \"T\": 0.0,\n",
    "    \"S\": (1 - 1 / 10000),\n",
    "    \"E\": 1 / 10000,\n",
    "    \"I\": 0.0,\n",
    "    \"I_asymptomatic\": 0.0,\n",
    "    \"I_mild\": 0.0,\n",
    "    \"I_severe_home\": 0.0,\n",
    "    \"I_severe_hospital\": 0.0,\n",
    "    \"I_fatal_home\": 0.0,\n",
    "    \"I_fatal_hospital\": 0.0,\n",
    "    \"R_from_asymptomatic\": 0.0,\n",
    "    \"R_from_mild\": 0.0,\n",
    "    \"R_from_severe\": 0.0,\n",
    "    \"Dead\": 0,\n",
    "}"
   ]
  },
  {
   "cell_type": "code",
   "execution_count": 8,
   "metadata": {},
   "outputs": [],
   "source": [
    "def update_results(\n",
    "    start,\n",
    "    params,\n",
    "    # Policy\n",
    "    policy_period0,\n",
    "    policy_period1,\n",
    "    policy_period2,\n",
    "    policy_period3,\n",
    "    date_period0,\n",
    "    date_period1,\n",
    "    date_period2,\n",
    "    date_period3,\n",
    "    # Parameters\n",
    "    # Starting Values\n",
    "):\n",
    "\n",
    "    policy = [\n",
    "        (date_period0, policy_period0),\n",
    "        (date_period1, policy_period1),\n",
    "        (date_period2, policy_period2),\n",
    "        (date_period3, policy_period3),\n",
    "    ]\n",
    "\n",
    "    # params={}\n",
    "    # start={}\n",
    "\n",
    "    # Run\n",
    "    seir = Seir(params=params, start=start)\n",
    "    seir.simulate(policy)\n",
    "    seir.plot_summary()\n",
    "    return None\n",
    "\n",
    "\n",
    "update_results_partial = partial(update_results, start=start, params=parameters)"
   ]
  },
  {
   "cell_type": "code",
   "execution_count": 9,
   "metadata": {},
   "outputs": [
    {
     "data": {
      "application/vnd.jupyter.widget-view+json": {
       "model_id": "2107579d9d134b7cac3a360c3f6d0af8",
       "version_major": 2,
       "version_minor": 0
      },
      "text/plain": [
       "VBox(children=(Output(), Tab(children=(VBox(children=(HBox(children=(Text(value='2020-02-28', description='Ini…"
      ]
     },
     "metadata": {},
     "output_type": "display_data"
    }
   ],
   "source": [
    "def policy_widget(description, date, policy=0):\n",
    "    text_box = widgets.Text(value=date, description=description, disabled=False,)\n",
    "    float_box = widgets.FloatSlider(\n",
    "        value=policy,\n",
    "        min=0,\n",
    "        max=1,\n",
    "        step=0.1,\n",
    "        description=\"Policy Strength\",\n",
    "        disabled=False,\n",
    "        continuous_update=False,\n",
    "        orientation=\"horizontal\",\n",
    "        readout=True,\n",
    "        readout_format=\".1f\",\n",
    "    )\n",
    "    return text_box, float_box\n",
    "\n",
    "\n",
    "# Policy Box\n",
    "text_box0, float_box0 = policy_widget(\"Initial Period\", \"2020-02-28\")\n",
    "text_box1, float_box1 = policy_widget(\"Lockdown\", \"2020-03-21\", policy=0.85)\n",
    "text_box2, float_box2 = policy_widget(\"Relaxation\", \"2020-04-14\")\n",
    "text_box3, float_box3 = policy_widget(\"Normalization\", \"2020-12-01\")\n",
    "\n",
    "policy_box = widgets.VBox(\n",
    "    [\n",
    "        widgets.HBox([text_box0, float_box0]),\n",
    "        widgets.HBox([text_box1, float_box1]),\n",
    "        widgets.HBox([text_box2, float_box2]),\n",
    "        widgets.HBox([text_box3, float_box3]),\n",
    "    ]\n",
    ")\n",
    "\n",
    "# Parameters (placeholder)\n",
    "parameters_box = widgets.VBox()\n",
    "\n",
    "# Starting Values (placeholder)\n",
    "start_box = widgets.VBox()\n",
    "\n",
    "# Combine inputs in tabs\n",
    "input_tab = widgets.Tab()\n",
    "input_tab.children = [policy_box, parameters_box, start_box]\n",
    "input_tab.set_title(0, \"Policy\")\n",
    "input_tab.set_title(1, \"Parameters\")\n",
    "input_tab.set_title(2, \"Starting Values\")\n",
    "\n",
    "# Output box\n",
    "output_box = widgets.interactive_output(\n",
    "    update_results_partial,\n",
    "    {\n",
    "        \"policy_period0\": float_box0,\n",
    "        \"policy_period1\": float_box1,\n",
    "        \"policy_period2\": float_box2,\n",
    "        \"policy_period3\": float_box3,\n",
    "        \"date_period0\": text_box0,\n",
    "        \"date_period1\": text_box1,\n",
    "        \"date_period2\": text_box2,\n",
    "        \"date_period3\": text_box3,\n",
    "    },\n",
    ")\n",
    "\n",
    "# Combination\n",
    "dash = widgets.VBox([output_box, input_tab])\n",
    "dash"
   ]
  },
  {
   "cell_type": "code",
   "execution_count": null,
   "metadata": {},
   "outputs": [],
   "source": []
  }
 ],
 "metadata": {
  "kernelspec": {
   "display_name": "Python 3.7.3 64-bit ('covid-venv': virtualenv)",
   "language": "python",
   "name": "python37364bitcovidvenvvirtualenvd812b5629d6a4188998c40f15e716813"
  },
  "language_info": {
   "codemirror_mode": {
    "name": "ipython",
    "version": 3
   },
   "file_extension": ".py",
   "mimetype": "text/x-python",
   "name": "python",
   "nbconvert_exporter": "python",
   "pygments_lexer": "ipython3",
   "version": "3.7.3"
  }
 },
 "nbformat": 4,
 "nbformat_minor": 4
}
