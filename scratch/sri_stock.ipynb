{
 "cells": [
  {
   "cell_type": "code",
   "execution_count": 1,
   "metadata": {},
   "outputs": [],
   "source": [
    "# Modules\n",
    "import numpy as np\n",
    "import matplotlib.pyplot as plt"
   ]
  },
  {
   "cell_type": "code",
   "execution_count": 2,
   "metadata": {},
   "outputs": [],
   "source": [
    "# Enables automatic black formatting when executing cells\n",
    "%load_ext lab_black"
   ]
  },
  {
   "cell_type": "code",
   "execution_count": 3,
   "metadata": {},
   "outputs": [],
   "source": [
    "# The model's difference equation/map + probabilities\n",
    "def sir_map(S, R, I, N, beta, gamma, pi_a, s_0):\n",
    "\n",
    "    # Eq 1\n",
    "    S_prime = S + -beta * I * (S / N)\n",
    "\n",
    "    # Eq 2\n",
    "    R_prime = R + gamma * I\n",
    "\n",
    "    # Eq 3\n",
    "    I_prime = I + beta * I * (S / N) - gamma * I\n",
    "\n",
    "    PrI_prime = I_prime / N\n",
    "    PrS_prime = S_prime / N\n",
    "    PrR_prime = R_prime / N\n",
    "\n",
    "    # Eq 5\n",
    "    PrSy_prime = (1 - pi_a) * PrI_prime + s_0 * (PrS_prime + PrR_prime)\n",
    "\n",
    "    # Eq 4\n",
    "    PrIgSy_prime = (1 - pi_a) * (PrI_prime / PrSy_prime)\n",
    "\n",
    "    return S_prime, R_prime, I_prime, PrIgSy_prime, PrSy_prime"
   ]
  },
  {
   "cell_type": "code",
   "execution_count": 4,
   "metadata": {},
   "outputs": [],
   "source": [
    "def simulator(n_weeks, S_0, R_0, I_0, N, beta, gamma, pi_a, s_0):\n",
    "\n",
    "    PrI_0 = I_0 / N\n",
    "    PrS_0 = S_0 / N\n",
    "    PrSy_0 = (1 - pi_a) * PrI_0 + s_0 * PrS_0\n",
    "    PrIgSy_0 = (1 - pi_a) * (PrI_0 / PrSy_0)\n",
    "\n",
    "    series = {}\n",
    "    series[\"S\"] = [S_0]\n",
    "    series[\"R\"] = [R_0]\n",
    "    series[\"I\"] = [I_0]\n",
    "    series[\"PrIgSy\"] = [PrIgSy_0]\n",
    "    series[\"PrSy\"] = [PrSy_0]\n",
    "\n",
    "    for nn in range(0, n_weeks):\n",
    "\n",
    "        S_prime, R_prime, I_prime, PrIgSy_prime, PrSy_prime = sir_map(\n",
    "            series[\"S\"][nn], series[\"R\"][nn], series[\"I\"][nn], N, beta, gamma, pi_a, s_0\n",
    "        )\n",
    "        series[\"S\"].append(S_prime)\n",
    "        series[\"R\"].append(R_prime)\n",
    "        series[\"I\"].append(I_prime)\n",
    "        series[\"PrIgSy\"].append(PrIgSy_prime)\n",
    "        series[\"PrSy\"].append(PrSy_prime)\n",
    "\n",
    "    return series"
   ]
  },
  {
   "cell_type": "code",
   "execution_count": 5,
   "metadata": {},
   "outputs": [],
   "source": [
    "# Calibration\n",
    "gamma = 0.5\n",
    "s_0 = 0.02\n",
    "N = 327200000\n",
    "pi_a = 0.30\n",
    "\n",
    "I_start = 50\n",
    "R_start = 0\n",
    "S_start = N - I_start - R_start"
   ]
  },
  {
   "cell_type": "code",
   "execution_count": 14,
   "metadata": {},
   "outputs": [
    {
     "name": "stdout",
     "output_type": "stream",
     "text": [
      "Beta found at 2.20\n"
     ]
    }
   ],
   "source": [
    "# Finding the current beta in the US\n",
    "\n",
    "beta_grid = np.linspace(1, 4, num=1000)\n",
    "\n",
    "for beta in beta_grid:\n",
    "\n",
    "    simulation_outcomes = simulator(\n",
    "        10, S_start, R_start, I_start, N, beta, gamma, pi_a, s_0\n",
    "    )\n",
    "\n",
    "    if abs(simulation_outcomes[\"PrIgSy\"][10] - 0.1) < 0.001:\n",
    "\n",
    "        print(f\"Beta found at {beta:.2f}\")\n",
    "        break"
   ]
  },
  {
   "cell_type": "code",
   "execution_count": 15,
   "metadata": {},
   "outputs": [],
   "source": [
    "# Some plots if US beta of last weeks remains for 50 weeks"
   ]
  },
  {
   "cell_type": "code",
   "execution_count": 16,
   "metadata": {},
   "outputs": [],
   "source": [
    "simulation_outcomes = simulator(50, S_start, R_start, I_start, N, 2.2, gamma, pi_a, s_0)"
   ]
  },
  {
   "cell_type": "code",
   "execution_count": 17,
   "metadata": {},
   "outputs": [
    {
     "data": {
      "text/plain": [
       "[<matplotlib.lines.Line2D at 0x7f9318382610>]"
      ]
     },
     "execution_count": 17,
     "metadata": {},
     "output_type": "execute_result"
    },
    {
     "data": {
      "image/png": "[encoded data removed]",
      "text/plain": [
       "<Figure size 432x288 with 1 Axes>"
      ]
     },
     "metadata": {
      "needs_background": "light"
     },
     "output_type": "display_data"
    }
   ],
   "source": [
    "plt.plot(simulation_outcomes[\"I\"])"
   ]
  },
  {
   "cell_type": "code",
   "execution_count": 18,
   "metadata": {},
   "outputs": [
    {
     "data": {
      "text/plain": [
       "[<matplotlib.lines.Line2D at 0x7f933872f4d0>]"
      ]
     },
     "execution_count": 18,
     "metadata": {},
     "output_type": "execute_result"
    },
    {
     "data": {
      "image/png": "[encoded data removed]",
      "text/plain": [
       "<Figure size 432x288 with 1 Axes>"
      ]
     },
     "metadata": {
      "needs_background": "light"
     },
     "output_type": "display_data"
    }
   ],
   "source": [
    "plt.plot(simulation_outcomes[\"PrIgSy\"])"
   ]
  },
  {
   "cell_type": "code",
   "execution_count": null,
   "metadata": {},
   "outputs": [],
   "source": []
  },
  {
   "cell_type": "code",
   "execution_count": null,
   "metadata": {},
   "outputs": [],
   "source": []
  },
  {
   "cell_type": "code",
   "execution_count": null,
   "metadata": {},
   "outputs": [],
   "source": []
  },
  {
   "cell_type": "code",
   "execution_count": null,
   "metadata": {},
   "outputs": [],
   "source": []
  }
 ],
 "metadata": {
  "kernelspec": {
   "display_name": "Python 3",
   "language": "python",
   "name": "python3"
  },
  "language_info": {
   "codemirror_mode": {
    "name": "ipython",
    "version": 3
   },
   "file_extension": ".py",
   "mimetype": "text/x-python",
   "name": "python",
   "nbconvert_exporter": "python",
   "pygments_lexer": "ipython3",
   "version": "3.7.6"
  }
 },
 "nbformat": 4,
 "nbformat_minor": 4
}
