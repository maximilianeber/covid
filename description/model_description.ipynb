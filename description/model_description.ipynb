{
 "cells": [
  {
   "cell_type": "markdown",
   "metadata": {},
   "source": [
    "## Model Description"
   ]
  },
  {
   "cell_type": "markdown",
   "metadata": {},
   "source": [
    "$ \\Delta S_t / \\Delta t = - \\beta(Asympt_t + Incub\\_Infect_t + Mild_t ) S_t $\n",
    "\n",
    "$\\Delta Incub\\_Non\\_Infect_t / \\Delta t = \\beta(Asympt_t + Incub\\_Infect_t + Inf\\_Mild_t ) S_t - 1/D\\_incubation \\cdot Incub\\_Non\\_Infect_t $\n",
    "\n",
    "$\\Delta Incub\\_Infect_t / \\Delta t = 1/D\\_incubation \\cdot Incub\\_Non\\_Infect_t - 1/D\\_presmympt \\cdot Incub\\_Infect_t  $\n",
    "\n",
    "$\\Delta Asympt_t / \\Delta t = 1/D\\_presmympt \\cdot p\\_asympt \\cdot Incub\\_Infect_t - 1/D\\_recovery\\_asympt \\cdot Asympt_t $\n",
    "\n",
    "$\\Delta Mild_t/ \\Delta t = 1/D\\_presmympt \\cdot p\\_mild \\cdot Incub\\_Infect_t - D\\_recovery\\_mild \\cdot Mild_t $\n",
    "\n",
    "$\\Delta Severe_t / \\Delta t = 1/D\\_presmympt \\cdot p\\_severe \\cdot Incub\\_Infect_t - 1/D\\_hospital \\cdot Severe_t $\n",
    "\n",
    "$\\Delta Fatal_t / \\Delta t = 1/D\\_presmympt \\cdot p\\_fatal \\cdot Incub\\_Infect_t - 1/D\\_hospital \\cdot Fatal_t $\n",
    "\n",
    "$\\Delta Severe\\_Hosp_t / \\Delta t = 1/D\\_hospital \\cdot Severe_t  - 1/D\\_recovery\\_severe \\cdot Severe\\_Hosp_t $\n",
    "\n",
    "$\\Delta Fatal\\_Hosp_t / \\Delta t = 1/D\\_hospital \\cdot Fatal_t - 1/D\\_death \\cdot Fatal\\_Hosp_t  $\n",
    "\n",
    "$\\Delta R\\_Asympt / \\Delta t = 1/D\\_recovery\\_asympt \\cdot Asympt_t $\n",
    "\n",
    "$\\Delta R\\_Mild / \\Delta t = 1/D\\_recovery\\_mild \\cdot Mild_t $\n",
    "\n",
    "$\\Delta R\\_Severe / \\Delta t = 1/D\\_recovery\\_severe \\cdot Severe\\_Hosp_t $\n",
    "\n",
    "$\\Delta R\\_Fatal / \\Delta t = 1/D\\_death \\cdot Fatal\\_Hosp_t $\n"
   ]
  },
  {
   "cell_type": "code",
   "execution_count": null,
   "metadata": {},
   "outputs": [],
   "source": []
  }
 ],
 "metadata": {
  "kernelspec": {
   "display_name": "Python 2",
   "language": "python",
   "name": "python2"
  },
  "language_info": {
   "codemirror_mode": {
    "name": "ipython",
    "version": 2
   },
   "file_extension": ".py",
   "mimetype": "text/x-python",
   "name": "python",
   "nbconvert_exporter": "python",
   "pygments_lexer": "ipython2",
   "version": "2.7.13"
  }
 },
 "nbformat": 4,
 "nbformat_minor": 2
}
